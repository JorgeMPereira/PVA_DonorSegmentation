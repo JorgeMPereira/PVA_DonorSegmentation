{
 "cells": [
  {
   "cell_type": "markdown",
   "metadata": {},
   "source": [
    "# Data Mining - Project\n",
    "## Clustering Notebook\n",
    "## Group Members\n",
    "|Name|StudentID|\n",
    "|:-----------:|:--------:|\n",
    "|Fabio Lopes|20200597|\n",
    "|Filipe Costa|20201041|\n",
    "|Jorge Pereira|20201085|\n"
   ]
  },
  {
   "cell_type": "code",
   "execution_count": 1,
   "metadata": {},
   "outputs": [
    {
     "name": "stdout",
     "output_type": "stream",
     "text": [
      "Requirement already satisfied: pyshp in c:\\users\\jorge\\anaconda3\\lib\\site-packages (2.1.2)\n"
     ]
    }
   ],
   "source": [
    "import sys\n",
    "!{sys.executable} -m pip install pyshp"
   ]
  },
  {
   "cell_type": "code",
   "execution_count": 2,
   "metadata": {},
   "outputs": [],
   "source": [
    "import pandas as pd\n",
    "import numpy as np\n",
    "import matplotlib.pyplot as plt\n",
    "import matplotlib.patches as mpatches\n",
    "import seaborn as sns\n",
    "import shapefile as shp\n",
    "\n",
    "from sklearn.cluster import KMeans\n",
    "from sklearn.decomposition import PCA\n",
    "from sklearn.ensemble import IsolationForest\n",
    "from sklearn.impute import KNNImputer\n",
    "from sklearn.manifold import TSNE\n",
    "from sklearn.metrics import silhouette_score, calinski_harabasz_score, davies_bouldin_score\n",
    "from sklearn.preprocessing import MinMaxScaler"
   ]
  },
  {
   "cell_type": "code",
   "execution_count": 3,
   "metadata": {},
   "outputs": [],
   "source": [
    "pd.set_option('display.max_columns', None)"
   ]
  },
  {
   "cell_type": "code",
   "execution_count": 4,
   "metadata": {},
   "outputs": [
    {
     "name": "stderr",
     "output_type": "stream",
     "text": [
      "C:\\Users\\Jorge\\anaconda3\\lib\\site-packages\\IPython\\core\\interactiveshell.py:3071: DtypeWarning: Columns (9,412) have mixed types.Specify dtype option on import or set low_memory=False.\n",
      "  has_raised = await self.run_ast_nodes(code_ast.body, cell_name,\n"
     ]
    }
   ],
   "source": [
    "df_source = pd.read_csv('./data/donors.csv')\n",
    "df_source.drop('Unnamed: 0', axis = 1, inplace = True)\n",
    "df_NonOutlier = pd.read_csv('./Outputs/dataprep_NonOutliers.csv',index_col=0)\n",
    "df_Outlier = pd.read_csv('./Outputs/dataprep_Outliers.csv',index_col=0)"
   ]
  },
  {
   "cell_type": "code",
   "execution_count": 5,
   "metadata": {},
   "outputs": [
    {
     "name": "stdout",
     "output_type": "stream",
     "text": [
      "95412\n",
      "85870\n",
      "9542\n"
     ]
    }
   ],
   "source": [
    "print(df_source.shape[0])\n",
    "print(df_NonOutlier.shape[0])\n",
    "print(df_Outlier.shape[0])"
   ]
  },
  {
   "cell_type": "code",
   "execution_count": 6,
   "metadata": {},
   "outputs": [],
   "source": [
    "def splitNumericAndCategorical(df):\n",
    "    \"\"\"Informs user on the total number of columns in the dataframe and splits it\n",
    "       in 2 dataframes, one numerical and the other categorical.\"\"\"\n",
    "    df_num = df._get_numeric_data()\n",
    "    df_cat = df.drop(df_num.columns, axis = 1)\n",
    "    print(f\"Total Columns: {df.shape[1]}\")\n",
    "    print(f\"Numerical Columns: {df_num.shape[1]}\")\n",
    "    print(f\"Categorical Columns: {df_cat.shape[1]}\")\n",
    "    return df_num,df_cat"
   ]
  },
  {
   "cell_type": "markdown",
   "metadata": {},
   "source": [
    "# Clustering"
   ]
  },
  {
   "cell_type": "code",
   "execution_count": 7,
   "metadata": {},
   "outputs": [],
   "source": [
    "# Selecting columns after analysis\n",
    "ColumnsToKeep = ['WEALTH1','RFA_2F','INCOME']\n",
    "\n",
    "df_NonOutlier_reduced = pd.DataFrame()\n",
    "df_Outlier_reduced = pd.DataFrame()\n",
    "\n",
    "for column in ColumnsToKeep:\n",
    "    df_NonOutlier_reduced[column] = df_NonOutlier[column]\n",
    "    df_Outlier_reduced[column] = df_Outlier[column]\n",
    "    \n",
    "df_NonOutlier = df_NonOutlier_reduced.copy()\n",
    "df_Outlier = df_Outlier_reduced.copy()"
   ]
  },
  {
   "cell_type": "code",
   "execution_count": 8,
   "metadata": {},
   "outputs": [],
   "source": [
    "df_clustering = df_NonOutlier.copy()"
   ]
  },
  {
   "cell_type": "code",
   "execution_count": 9,
   "metadata": {},
   "outputs": [
    {
     "name": "stdout",
     "output_type": "stream",
     "text": [
      "Total Columns: 3\n",
      "Numerical Columns: 3\n",
      "Categorical Columns: 0\n"
     ]
    }
   ],
   "source": [
    "df_numeric, df_categorical = splitNumericAndCategorical(df_clustering)"
   ]
  },
  {
   "cell_type": "code",
   "execution_count": 10,
   "metadata": {},
   "outputs": [],
   "source": [
    "def ClusterMetrics(df,labels):\n",
    "    from sklearn.metrics import silhouette_score, calinski_harabasz_score, davies_bouldin_score\n",
    "    \n",
    "    Silhouette = silhouette_score(df, labels, metric='euclidean')\n",
    "    print(f\"Silhouette : {Silhouette}\")\n",
    "    CalinskiHarabasz = calinski_harabasz_score(df, labels)\n",
    "    print(f\"CalinskiHarabasz : {CalinskiHarabasz}\")\n",
    "    DaviesBouldin = davies_bouldin_score(df, labels)\n",
    "    print(f\"DaviesBouldin : {DaviesBouldin}\")\n",
    "    \n",
    "    return [Silhouette, CalinskiHarabasz, DaviesBouldin]"
   ]
  },
  {
   "cell_type": "code",
   "execution_count": 11,
   "metadata": {},
   "outputs": [],
   "source": [
    "def inertiaCalculationKmeans(df, numberClusters = range(1, 11)):\n",
    "    inertiaResults = []\n",
    "    for n_clus in numberClusters:\n",
    "        kmclust = KMeans(n_clusters = n_clus, init = 'k-means++', n_init = 15, random_state=1)\n",
    "        kmclust.fit(df)\n",
    "        inertiaResults.append(kmclust.inertia_)\n",
    "        \n",
    "    plt.figure(figsize=(10,10))\n",
    "    plt.plot(inertiaResults, color = 'g')\n",
    "    plt.ylabel(\"Inertia\")\n",
    "    plt.xlabel(\"Number of clusters\")\n",
    "    plt.title(\"Inertia per clusters\")\n",
    "    plt.show()\n",
    "    return inertiaResults"
   ]
  },
  {
   "cell_type": "code",
   "execution_count": 12,
   "metadata": {},
   "outputs": [],
   "source": [
    "def tsneViz(df, labels = None,f_perplexity = 30.0, f_learning_rate = 200.0, plot=True):\n",
    "    from sklearn.manifold import TSNE\n",
    "    import seaborn as sns\n",
    "    \n",
    "    tsne = TSNE(n_components=2, \n",
    "                perplexity = f_perplexity,\n",
    "                learning_rate = f_learning_rate\n",
    "               ).fit_transform(df)\n",
    "    \n",
    "    #plot tsne\n",
    "    if plot:\n",
    "        fig = plt.figure(figsize = (10, 10))\n",
    "        sns.scatterplot(x=tsne[:,0], y=tsne[:,1], hue=labels, legend='full', palette = \"Paired\")\n",
    "        plt.title(\"t-SNE visualization of the dataset\")\n",
    "    \n",
    "    return tsne"
   ]
  },
  {
   "cell_type": "markdown",
   "metadata": {},
   "source": [
    "## KMeans"
   ]
  },
  {
   "cell_type": "code",
   "execution_count": null,
   "metadata": {},
   "outputs": [],
   "source": [
    "Inertia = inertiaCalculationKmeans(df_numeric)"
   ]
  },
  {
   "cell_type": "code",
   "execution_count": null,
   "metadata": {},
   "outputs": [],
   "source": [
    "KMeansAlgorithm = KMeans(n_clusters = 4, init = 'k-means++', n_init = 15, random_state=1).fit(df_numeric)"
   ]
  },
  {
   "cell_type": "code",
   "execution_count": null,
   "metadata": {},
   "outputs": [],
   "source": [
    "pd.DataFrame(KMeansAlgorithm.labels_).value_counts()"
   ]
  },
  {
   "cell_type": "code",
   "execution_count": null,
   "metadata": {},
   "outputs": [],
   "source": [
    "ClusterMetrics(df_numeric,KMeansAlgorithm.labels_)"
   ]
  },
  {
   "cell_type": "markdown",
   "metadata": {},
   "source": [
    "# Labeling data and Return Outliers to the dataset"
   ]
  },
  {
   "cell_type": "markdown",
   "metadata": {},
   "source": [
    "## Non Outlier Labelling"
   ]
  },
  {
   "cell_type": "code",
   "execution_count": null,
   "metadata": {},
   "outputs": [],
   "source": [
    "df_labeled = pd.concat([df_NonOutlier,\n",
    "                        pd.DataFrame(KMeansAlgorithm.labels_,index=df_NonOutlier.index, columns = ['Cluster'])]\n",
    "                       ,axis=1,\n",
    "                       ignore_index=True)\n",
    "\n",
    "columns = list(df_NonOutlier.columns.values)\n",
    "columns.append('Cluster')\n",
    "df_labeled.columns = columns"
   ]
  },
  {
   "cell_type": "code",
   "execution_count": null,
   "metadata": {},
   "outputs": [],
   "source": [
    "df_labeled"
   ]
  },
  {
   "cell_type": "markdown",
   "metadata": {},
   "source": [
    "## Outlier Labelling"
   ]
  },
  {
   "cell_type": "code",
   "execution_count": null,
   "metadata": {},
   "outputs": [],
   "source": [
    "df_numeric, df_categorical = splitNumericAndCategorical(df_Outlier)\n",
    "\n",
    "outlierLabels = KMeansAlgorithm.predict(df_numeric)\n",
    "\n",
    "df_OutlierLabeled = pd.concat([df_Outlier,\n",
    "                            pd.DataFrame(outlierLabels,index=df_Outlier.index, columns = ['Cluster'])]\n",
    "                           ,axis=1,\n",
    "                           ignore_index=True)\n",
    "\n",
    "columns = list(df_Outlier.columns.values)\n",
    "columns.append('Cluster')\n",
    "df_OutlierLabeled.columns = columns"
   ]
  },
  {
   "cell_type": "code",
   "execution_count": null,
   "metadata": {},
   "outputs": [],
   "source": [
    "df_OutlierLabeled"
   ]
  },
  {
   "cell_type": "markdown",
   "metadata": {},
   "source": [
    "## Join outliers and Non Outliers"
   ]
  },
  {
   "cell_type": "code",
   "execution_count": null,
   "metadata": {},
   "outputs": [],
   "source": [
    "df_fullLabeled = pd.concat([df_labeled,df_OutlierLabeled],axis=0).sort_index(axis=0)"
   ]
  },
  {
   "cell_type": "code",
   "execution_count": null,
   "metadata": {},
   "outputs": [],
   "source": [
    "df_fullLabeled"
   ]
  },
  {
   "cell_type": "markdown",
   "metadata": {},
   "source": [
    "## Visualize Results"
   ]
  },
  {
   "cell_type": "code",
   "execution_count": null,
   "metadata": {},
   "outputs": [],
   "source": [
    "df_numeric, df_categorical = splitNumericAndCategorical(df_fullLabeled)"
   ]
  },
  {
   "cell_type": "code",
   "execution_count": null,
   "metadata": {},
   "outputs": [],
   "source": [
    "tsne = tsneViz(df_numeric.drop('Cluster',axis=1), labels = df_numeric['Cluster'] ,f_perplexity = 50.0, f_learning_rate = 500.0)"
   ]
  },
  {
   "cell_type": "code",
   "execution_count": null,
   "metadata": {},
   "outputs": [],
   "source": [
    "df_tsne = pd.DataFrame(tsne,columns=['tsne1','tsn2'])"
   ]
  },
  {
   "cell_type": "markdown",
   "metadata": {},
   "source": [
    "## Visualize with PCA"
   ]
  },
  {
   "cell_type": "code",
   "execution_count": null,
   "metadata": {},
   "outputs": [],
   "source": [
    "pca = PCA(n_components=2) # \n",
    "pca.fit(df_numeric.drop('Cluster',axis=1))\n",
    "\n",
    "columnsPCA = [f\"PC_{i}\" for i in range(1,3)]\n",
    "df_PCA = pd.DataFrame(pca.transform(df_numeric.drop('Cluster',axis=1)),columns=columnsPCA)"
   ]
  },
  {
   "cell_type": "code",
   "execution_count": null,
   "metadata": {},
   "outputs": [],
   "source": [
    "fig = plt.figure(figsize = (10, 10))\n",
    "sns.scatterplot(x=df_PCA['PC_1'], y=df_PCA['PC_2'], hue=df_numeric['Cluster'], legend='full', palette = \"Paired\")"
   ]
  },
  {
   "cell_type": "markdown",
   "metadata": {},
   "source": [
    "# Save Results"
   ]
  },
  {
   "cell_type": "code",
   "execution_count": null,
   "metadata": {},
   "outputs": [],
   "source": [
    "df_fullLabeled.to_csv('./Outputs/ReClustering_Labelled.csv')\n",
    "df_tsne.to_csv('./Outputs/ReClustering_tsne.csv')"
   ]
  },
  {
   "cell_type": "code",
   "execution_count": null,
   "metadata": {},
   "outputs": [],
   "source": [
    "print(df_fullLabeled.shape[0])\n",
    "print(df_tsne.shape[0])"
   ]
  }
 ],
 "metadata": {
  "kernelspec": {
   "display_name": "Python 3",
   "language": "python",
   "name": "python3"
  },
  "language_info": {
   "codemirror_mode": {
    "name": "ipython",
    "version": 3
   },
   "file_extension": ".py",
   "mimetype": "text/x-python",
   "name": "python",
   "nbconvert_exporter": "python",
   "pygments_lexer": "ipython3",
   "version": "3.8.3"
  }
 },
 "nbformat": 4,
 "nbformat_minor": 4
}

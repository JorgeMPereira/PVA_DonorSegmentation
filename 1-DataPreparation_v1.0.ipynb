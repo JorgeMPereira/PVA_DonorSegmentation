{
 "cells": [
  {
   "cell_type": "markdown",
   "metadata": {},
   "source": [
    "# Data Mining - Project\n",
    "## Data Preparation Notebook\n",
    "## Group Members\n",
    "|Name|StudentID|\n",
    "|:-----------:|:--------:|\n",
    "|Fabio Lopes|20200597|\n",
    "|Filipe Costa|20201041|\n",
    "|Jorge Pereira|20201085|\n"
   ]
  },
  {
   "cell_type": "code",
   "execution_count": 1,
   "metadata": {},
   "outputs": [
    {
     "name": "stdout",
     "output_type": "stream",
     "text": [
      "Requirement already satisfied: pyshp in c:\\anaconda3\\lib\\site-packages (2.1.2)\n"
     ]
    },
    {
     "name": "stderr",
     "output_type": "stream",
     "text": [
      "WARNING: You are using pip version 20.2.4; however, version 20.3.3 is available.\n",
      "You should consider upgrading via the 'C:\\anaconda3\\python.exe -m pip install --upgrade pip' command.\n"
     ]
    }
   ],
   "source": [
    "import sys\n",
    "!{sys.executable} -m pip install pyshp"
   ]
  },
  {
   "cell_type": "code",
   "execution_count": 2,
   "metadata": {},
   "outputs": [],
   "source": [
    "import pandas as pd\n",
    "import numpy as np\n",
    "import matplotlib.pyplot as plt\n",
    "import matplotlib.patches as mpatches\n",
    "import seaborn as sns\n",
    "import shapefile as shp\n",
    "\n",
    "from sklearn.cluster import KMeans\n",
    "from sklearn.decomposition import PCA\n",
    "from sklearn.ensemble import IsolationForest\n",
    "from sklearn.impute import KNNImputer\n",
    "from sklearn.manifold import TSNE\n",
    "from sklearn.metrics import silhouette_score, calinski_harabasz_score, davies_bouldin_score\n",
    "from sklearn.preprocessing import MinMaxScaler"
   ]
  },
  {
   "cell_type": "code",
   "execution_count": 6,
   "metadata": {},
   "outputs": [],
   "source": [
    "pd.set_option('display.max_columns', None)"
   ]
  },
  {
   "cell_type": "code",
   "execution_count": 7,
   "metadata": {},
   "outputs": [
    {
     "name": "stderr",
     "output_type": "stream",
     "text": [
      "C:\\anaconda3\\lib\\site-packages\\IPython\\core\\interactiveshell.py:3071: DtypeWarning: Columns (9,412) have mixed types.Specify dtype option on import or set low_memory=False.\n",
      "  has_raised = await self.run_ast_nodes(code_ast.body, cell_name,\n"
     ]
    }
   ],
   "source": [
    "df_source = pd.read_csv('./data/donors.csv')\n",
    "df_source.drop('Unnamed: 0', axis = 1, inplace = True)"
   ]
  },
  {
   "cell_type": "code",
   "execution_count": null,
   "metadata": {},
   "outputs": [],
   "source": [
    "df_source.head()"
   ]
  },
  {
   "cell_type": "code",
   "execution_count": 6,
   "metadata": {},
   "outputs": [],
   "source": [
    "def splitNumericAndCategorical(df):\n",
    "    \"\"\"Informs user on the total number of columns in the dataframe and splits it\n",
    "       in 2 dataframes, one numerical and the other categorical.\"\"\"\n",
    "    df_num = df._get_numeric_data()\n",
    "    df_cat = df.drop(df_num.columns, axis = 1)\n",
    "    print(f\"Total Columns: {df.shape[1]}\")\n",
    "    print(f\"Numerical Columns: {df_num.shape[1]}\")\n",
    "    print(f\"Categorical Columns: {df_cat.shape[1]}\")\n",
    "    return df_num,df_cat"
   ]
  },
  {
   "cell_type": "code",
   "execution_count": 7,
   "metadata": {
    "scrolled": true
   },
   "outputs": [
    {
     "name": "stdout",
     "output_type": "stream",
     "text": [
      "Total Columns: 475\n",
      "Numerical Columns: 350\n",
      "Categorical Columns: 125\n"
     ]
    }
   ],
   "source": [
    "df_numeric, df_categorical = splitNumericAndCategorical(df_source)"
   ]
  },
  {
   "cell_type": "markdown",
   "metadata": {},
   "source": [
    "# Drop columns which are not relevant for the analysis"
   ]
  },
  {
   "cell_type": "code",
   "execution_count": 8,
   "metadata": {},
   "outputs": [],
   "source": [
    "df_aux1 = pd.DataFrame()\n",
    "\n",
    "with open('ColumnsToKeep.txt','r') as fp:\n",
    "    ColumnsToKeep = [line.strip() for line in fp.readlines()]\n",
    "\n",
    "for column in ColumnsToKeep:\n",
    "    df_aux1[column] = df_source[column]"
   ]
  },
  {
   "cell_type": "code",
   "execution_count": 9,
   "metadata": {},
   "outputs": [
    {
     "name": "stdout",
     "output_type": "stream",
     "text": [
      "Total Columns: 341\n",
      "Numerical Columns: 311\n",
      "Categorical Columns: 30\n"
     ]
    }
   ],
   "source": [
    "df_numeric, df_categorical = splitNumericAndCategorical(df_aux1)"
   ]
  },
  {
   "cell_type": "markdown",
   "metadata": {},
   "source": [
    "# Prepare data"
   ]
  },
  {
   "cell_type": "code",
   "execution_count": 10,
   "metadata": {},
   "outputs": [],
   "source": [
    "df_aux2 = df_aux1.copy()"
   ]
  },
  {
   "cell_type": "markdown",
   "metadata": {},
   "source": [
    "## Cast dates to datetime object + create variables"
   ]
  },
  {
   "cell_type": "code",
   "execution_count": 11,
   "metadata": {},
   "outputs": [],
   "source": [
    "DateColumns = ['DOB','MAXADATE','MINRDATE','MAXRDATE','LASTDATE','FISTDATE','NEXTDATE']\n",
    "\n",
    "for column in DateColumns:\n",
    "    df_aux2[column] = pd.to_datetime(df_aux1[column])"
   ]
  },
  {
   "cell_type": "code",
   "execution_count": 12,
   "metadata": {},
   "outputs": [],
   "source": [
    "# Computing AGE from DOB\n",
    "df_aux2['AGE'] = (pd.Timestamp('now') - df_aux2['DOB']).astype('<m8[Y]')\n",
    "df_aux2.drop('DOB', axis = 1, inplace = True)\n",
    "\n",
    "# Computing number of days elapsed from each date variable\n",
    "DateColumns = ['MAXADATE','MINRDATE','MAXRDATE','LASTDATE','FISTDATE','NEXTDATE']\n",
    "for column in DateColumns:\n",
    "    df_aux2[f'elapsed_{column}'] = (pd.Timestamp('now') - df_aux2[column]).dt.days\n",
    "    \n",
    "df_aux2.drop(DateColumns, axis = 1, inplace = True)"
   ]
  },
  {
   "cell_type": "markdown",
   "metadata": {},
   "source": [
    "## Create Binary Variables based on the flags"
   ]
  },
  {
   "cell_type": "code",
   "execution_count": 13,
   "metadata": {},
   "outputs": [],
   "source": [
    "df_aux3 = df_aux2.copy()"
   ]
  },
  {
   "cell_type": "code",
   "execution_count": 14,
   "metadata": {},
   "outputs": [],
   "source": [
    "df_aux3['PVASTATE'] = df_aux2['PVASTATE'].apply(lambda x: 1 if ( (x == 'E') or (x == 'P')) else 0)\n",
    "df_aux3['NOEXCH'  ] = df_aux2['NOEXCH'  ].apply(lambda x: 0 if ( (x == 'X') ) else 1)\n",
    "df_aux3['HOMEOWNR'] = df_aux2['HOMEOWNR'].apply(lambda x: 0 if ( (x == 'H') ) else 1)\n",
    "df_aux3['VETERANS'] = df_aux2['VETERANS'].apply(lambda x: 0 if ( (x == 'Y') ) else 1)\n",
    "df_aux3['RECINHSE'] = df_aux2['RECINHSE'].apply(lambda x: 1 if ( (x == 'X') ) else 0)\n",
    "df_aux3['RECP3'   ] = df_aux2['RECP3'   ].apply(lambda x: 1 if ( (x == 'X') ) else 0)\n",
    "df_aux3['RECPGVG' ] = df_aux2['RECPGVG' ].apply(lambda x: 1 if ( (x == 'X') ) else 0)\n",
    "df_aux3['RECSWEEP'] = df_aux2['RECSWEEP'].apply(lambda x: 1 if ( (x == 'X') ) else 0)\n",
    "df_aux3['MAJOR'   ] = df_aux2['MAJOR'   ].apply(lambda x: 1 if ( (x == 'X') ) else 0)\n",
    "df_aux3['PEPSTRFL'] = df_aux2['PEPSTRFL'].apply(lambda x: 1 if ( (x == 'X') ) else 0)"
   ]
  },
  {
   "cell_type": "markdown",
   "metadata": {},
   "source": [
    "## Fixes issues identified in some columns"
   ]
  },
  {
   "cell_type": "code",
   "execution_count": 15,
   "metadata": {},
   "outputs": [],
   "source": [
    "df_aux4 = df_aux3.copy()"
   ]
  },
  {
   "cell_type": "code",
   "execution_count": 16,
   "metadata": {},
   "outputs": [],
   "source": [
    "df_aux4['ZIP'] = df_aux3['ZIP'].str.replace('-','').astype(int)\n",
    "df_aux4['GENDER'] = df_aux3['GENDER'].apply(lambda x: 1 if (x == 'F') else 2 if (x == 'M') else 0)\n",
    "df_aux4['DATASRCE'] = df_aux3['DATASRCE'].apply(lambda x: 0 if (x == ' ') else int(x))\n",
    "df_aux4['SOLP3'] = df_aux3['SOLP3'].apply(lambda x: 12 if (x == ' ') else int(x))\n",
    "df_aux4['SOLIH'] = df_aux3['SOLIH'].apply(lambda x: 12 if (x == ' ') else int(x))\n",
    "df_aux4['GEOCODE'] = df_aux3['GEOCODE'].apply(lambda x: 0 if (x == ' ') else int(x))"
   ]
  },
  {
   "cell_type": "markdown",
   "metadata": {},
   "source": [
    "## Handle Domain, RFA, MDAUD Columns"
   ]
  },
  {
   "cell_type": "code",
   "execution_count": 17,
   "metadata": {},
   "outputs": [],
   "source": [
    "df_aux5 = df_aux4.copy()"
   ]
  },
  {
   "cell_type": "markdown",
   "metadata": {},
   "source": [
    "### Domain"
   ]
  },
  {
   "cell_type": "code",
   "execution_count": 18,
   "metadata": {},
   "outputs": [],
   "source": [
    "# DOMAIN handling\n",
    "# 1st byte = Urbanicity level of the donor's neighborhood\n",
    "#     U=Urban=5\n",
    "#     C=City=4\n",
    "#     S=Suburban=3\n",
    "#     T=Town=2\n",
    "#     R=Rural=1\n",
    "\n",
    "# 2nd byte = Socio-Economic status of the neighborhood\n",
    "#     1 = Highest SES\n",
    "#     2 = Average SES\n",
    "#     3 = Lowest SES \n",
    "#     (except for Urban communities, where\n",
    "#       1 = Highest SES, \n",
    "#       2 = Above average SES,\n",
    "#       3 = Below average SES, \n",
    "#       4 = Lowest SES.)\n",
    "\n",
    "def prepURBANICITY(Code):\n",
    "    if Code == ' ':\n",
    "        return 0 #Empty\n",
    "    else:\n",
    "        if Code[0] == 'R':\n",
    "            return 1\n",
    "        elif Code[0] == 'T':\n",
    "            return 2\n",
    "        elif Code[0] == 'S':\n",
    "            return 3\n",
    "        elif Code[0] == 'C':\n",
    "            return 4\n",
    "        elif Code[0] == 'U':\n",
    "            return 5\n",
    "        else:\n",
    "            return 0\n",
    "        \n",
    "def prepSOCIOECON(Code):\n",
    "    if Code == ' ':\n",
    "        return 0 #Empty\n",
    "    else:\n",
    "        if (Code[0] == 'R') or (Code[0] == 'T') or (Code[0] == 'S') or Code[0] == 'C':\n",
    "            if Code[1] == '1':\n",
    "                return 1\n",
    "            elif Code[1] == '2':\n",
    "                return 3\n",
    "            elif Code[1] == '3':\n",
    "                return 5\n",
    "            else:\n",
    "                return 0\n",
    "        elif Code[0] == 'U':\n",
    "            if Code[1] == '1':\n",
    "                return 1\n",
    "            elif Code[1] == '2':\n",
    "                return 2\n",
    "            elif Code[1] == '3':\n",
    "                return 4\n",
    "            elif Code[1] == '4':\n",
    "                return 5\n",
    "            else:\n",
    "                return 0\n",
    "        else:\n",
    "            return 0\n",
    "\n",
    "df_aux5['URBANICITY'] = df_aux4['DOMAIN'].apply(prepURBANICITY)\n",
    "df_aux5['SOCIOECON' ] = df_aux4['DOMAIN'].apply(prepSOCIOECON)\n",
    "df_aux5.drop('DOMAIN', axis = 1, inplace = True)"
   ]
  },
  {
   "cell_type": "markdown",
   "metadata": {},
   "source": [
    "### RFA"
   ]
  },
  {
   "cell_type": "code",
   "execution_count": 19,
   "metadata": {},
   "outputs": [],
   "source": [
    "def prepLASTGIFTAMOUNTCATEGORY(Code):\n",
    "    if Code == ' ':\n",
    "        return 0 #Empty\n",
    "    else:\n",
    "        if Code[0] == 'A':\n",
    "            return 1\n",
    "        elif Code[0] == 'B':\n",
    "            return 2\n",
    "        elif Code[0] == 'C':\n",
    "            return 3\n",
    "        elif Code[0] == 'D':\n",
    "            return 4\n",
    "        elif Code[0] == 'E':\n",
    "            return 5\n",
    "        elif Code[0] == 'F':\n",
    "            return 6\n",
    "        elif Code[0] == 'G':\n",
    "            return 7\n",
    "        else:\n",
    "            return 0\n",
    "        \n",
    "df_aux5['LASTGIFTAMOUNTCATEGORY'] = df_aux4['RFA_2A'].apply(prepLASTGIFTAMOUNTCATEGORY)\n",
    "df_aux5.drop('RFA_2A', axis = 1, inplace = True)\n",
    "df_aux5.drop('RFA_2R', axis = 1, inplace = True) # all donors are lapsing donors"
   ]
  },
  {
   "cell_type": "markdown",
   "metadata": {},
   "source": [
    "### MDAUD"
   ]
  },
  {
   "cell_type": "code",
   "execution_count": 20,
   "metadata": {},
   "outputs": [],
   "source": [
    "def prepMDONOR_GIVING_RECENCY(Code):\n",
    "    if Code[0] == 'X':\n",
    "        return 0 # Not a major donor\n",
    "    else:\n",
    "        if Code[0] == 'C':\n",
    "            return 1\n",
    "        elif Code[0] == 'L':\n",
    "            return 2\n",
    "        elif Code[0] == 'I':\n",
    "            return 3\n",
    "        elif Code[0] == 'D':\n",
    "            return 4\n",
    "        else:\n",
    "            return 0\n",
    "    \n",
    "def prepMDONOR_GIVING_FREQUENCY(Code):\n",
    "    if Code[0] == 'X':\n",
    "        return 0 # Not a major donor\n",
    "    else:\n",
    "        if Code[0] == '1':\n",
    "            return 1\n",
    "        elif Code[0] == '2':\n",
    "            return 2\n",
    "        elif Code[0] == '5':\n",
    "            return 3\n",
    "        else:\n",
    "            return 0\n",
    "        \n",
    "def prepMDONOR_GIVING_AMOUNT(Code):\n",
    "    if Code[0] == 'X':\n",
    "        return 0 # Not a major donor\n",
    "    else:\n",
    "        if Code[0] == 'L':\n",
    "            return 1\n",
    "        elif Code[0] == 'C':\n",
    "            return 2\n",
    "        elif Code[0] == 'M':\n",
    "            return 3\n",
    "        elif Code[0] == 'T':\n",
    "            return 4\n",
    "        else:\n",
    "            return 0\n",
    "        \n",
    "df_aux5['MDONOR_GIVING_RECENCY'] = df_aux4['MDMAUD_R'].apply(prepMDONOR_GIVING_RECENCY)\n",
    "df_aux5['MDONOR_GIVING_FREQUENCY'] = df_aux4['MDMAUD_F'].apply(prepMDONOR_GIVING_FREQUENCY)\n",
    "df_aux5['MDONOR_GIVING_AMOUNT'] = df_aux4['MDMAUD_A'].apply(prepMDONOR_GIVING_AMOUNT)\n",
    "\n",
    "df_aux5.drop('MDMAUD_R', axis = 1, inplace = True)\n",
    "df_aux5.drop('MDMAUD_F', axis = 1, inplace = True)\n",
    "df_aux5.drop('MDMAUD_A', axis = 1, inplace = True)"
   ]
  },
  {
   "cell_type": "code",
   "execution_count": 21,
   "metadata": {},
   "outputs": [
    {
     "name": "stdout",
     "output_type": "stream",
     "text": [
      "Total Columns: 341\n",
      "Numerical Columns: 340\n",
      "Categorical Columns: 1\n"
     ]
    }
   ],
   "source": [
    "df_numeric, df_categorical = splitNumericAndCategorical(df_aux5)"
   ]
  },
  {
   "cell_type": "code",
   "execution_count": 22,
   "metadata": {},
   "outputs": [],
   "source": [
    "df_Prepped = df_aux5.copy()"
   ]
  },
  {
   "cell_type": "markdown",
   "metadata": {},
   "source": [
    "# Scaling the data"
   ]
  },
  {
   "cell_type": "code",
   "execution_count": 23,
   "metadata": {},
   "outputs": [],
   "source": [
    "df_scaling = df_Prepped.copy()"
   ]
  },
  {
   "cell_type": "code",
   "execution_count": 24,
   "metadata": {},
   "outputs": [
    {
     "name": "stdout",
     "output_type": "stream",
     "text": [
      "Total Columns: 341\n",
      "Numerical Columns: 340\n",
      "Categorical Columns: 1\n"
     ]
    }
   ],
   "source": [
    "df_numeric, df_categorical = splitNumericAndCategorical(df_scaling)"
   ]
  },
  {
   "cell_type": "code",
   "execution_count": 25,
   "metadata": {},
   "outputs": [],
   "source": [
    "scaler = MinMaxScaler(feature_range=(-1, 1))\n",
    "df_scaling[df_numeric.columns] = scaler.fit_transform(df_numeric)"
   ]
  },
  {
   "cell_type": "markdown",
   "metadata": {},
   "source": [
    "# Reduce Dimensionality"
   ]
  },
  {
   "cell_type": "code",
   "execution_count": 26,
   "metadata": {},
   "outputs": [],
   "source": [
    "# https://www.kdnuggets.com/2015/05/7-methods-data-dimensionality-reduction.html"
   ]
  },
  {
   "cell_type": "code",
   "execution_count": 27,
   "metadata": {},
   "outputs": [],
   "source": [
    "df_FEreduction = df_scaling.copy()"
   ]
  },
  {
   "cell_type": "markdown",
   "metadata": {},
   "source": [
    "## Drop columns based on valid observations"
   ]
  },
  {
   "cell_type": "code",
   "execution_count": 28,
   "metadata": {},
   "outputs": [
    {
     "name": "stdout",
     "output_type": "stream",
     "text": [
      "Total Columns: 341\n",
      "Numerical Columns: 340\n",
      "Categorical Columns: 1\n"
     ]
    }
   ],
   "source": [
    "df_numeric, df_categorical = splitNumericAndCategorical(df_FEreduction)"
   ]
  },
  {
   "cell_type": "code",
   "execution_count": 29,
   "metadata": {},
   "outputs": [
    {
     "name": "stdout",
     "output_type": "stream",
     "text": [
      "Minimum Valid Samples: 38164\n",
      "Dropped NUMCHLD , Valid Observations: 12386\n"
     ]
    }
   ],
   "source": [
    "import math\n",
    "\n",
    "ThresholdToIgnore = 0.4 # If more than 40% of the dataset is missing\n",
    "\n",
    "MinimumValidSamples = math.floor(df_FEreduction.shape[0] * ThresholdToIgnore)\n",
    "print(f\"Minimum Valid Samples: {MinimumValidSamples}\")\n",
    "for column in df_FEreduction.columns:\n",
    "    count = df_FEreduction[column].count()\n",
    "    #print(f\"{column}:{count}\")\n",
    "    if count < MinimumValidSamples:\n",
    "        print(f\"Dropped {column} , Valid Observations: {count}\")\n",
    "        df_FEreduction.drop(column,axis=1, inplace=True)"
   ]
  },
  {
   "cell_type": "markdown",
   "metadata": {},
   "source": [
    "## Drop columns with high/low correlation"
   ]
  },
  {
   "cell_type": "code",
   "execution_count": 30,
   "metadata": {},
   "outputs": [
    {
     "name": "stdout",
     "output_type": "stream",
     "text": [
      "Total Columns: 340\n",
      "Numerical Columns: 339\n",
      "Categorical Columns: 1\n"
     ]
    }
   ],
   "source": [
    "df_numeric, df_categorical = splitNumericAndCategorical(df_FEreduction)"
   ]
  },
  {
   "cell_type": "code",
   "execution_count": 31,
   "metadata": {},
   "outputs": [
    {
     "name": "stdout",
     "output_type": "stream",
     "text": [
      "Dropping 66 columns with High correlation.\n",
      "Dropping 55 columns with Low correlation.\n"
     ]
    }
   ],
   "source": [
    "corPearson = df_numeric.corr().abs()\n",
    "\n",
    "# Select upper triangle of correlation matrix\n",
    "upper = corPearson.where(np.triu(np.ones(corPearson.shape), k=1).astype(np.bool))\n",
    "\n",
    "# Find features with correlation greater than 0.90 and lower than 0.3\n",
    "HighCorrelation = [column for column in upper.columns if any(upper[column] > 0.90)]\n",
    "LowCorrelation = [column for column in upper.columns if max(upper[column]) < 0.30]\n",
    "\n",
    "print(f\"Dropping {len(HighCorrelation)} columns with High correlation.\")\n",
    "print(f\"Dropping {len(LowCorrelation)} columns with Low correlation.\")\n",
    "\n",
    "# Drop features \n",
    "df_FEreduction.drop(HighCorrelation, axis=1, inplace=True)\n",
    "df_FEreduction.drop(LowCorrelation, axis=1, inplace=True)"
   ]
  },
  {
   "cell_type": "markdown",
   "metadata": {},
   "source": [
    "## Remove Neighborhood data"
   ]
  },
  {
   "cell_type": "code",
   "execution_count": 32,
   "metadata": {},
   "outputs": [],
   "source": [
    "with open('NeighborhoodColumns.txt','r') as fp:\n",
    "    NeighborhoodColumns = [line.strip() for line in fp.readlines()]\n",
    "\n",
    "NeighborhoodColumnsToKeep = []\n",
    "\n",
    "columnsToDrop = list(set(NeighborhoodColumns) - set(NeighborhoodColumnsToKeep))\n",
    "    \n",
    "for column in columnsToDrop:\n",
    "    if column in df_FEreduction.columns:\n",
    "        df_FEreduction.drop(column,axis=1,inplace=True)"
   ]
  },
  {
   "cell_type": "markdown",
   "metadata": {},
   "source": [
    "## Choose Clustering Variables"
   ]
  },
  {
   "cell_type": "code",
   "execution_count": 33,
   "metadata": {},
   "outputs": [],
   "source": [
    "dropColumns = ['STATE','ZIP','RECSWEEP','DATASRCE','URBANICITY','SOCIOECON']\n",
    "\n",
    "df_FEreduction.drop(dropColumns,axis=1,inplace=True)"
   ]
  },
  {
   "cell_type": "code",
   "execution_count": 34,
   "metadata": {},
   "outputs": [
    {
     "data": {
      "text/html": [
       "<div>\n",
       "<style scoped>\n",
       "    .dataframe tbody tr th:only-of-type {\n",
       "        vertical-align: middle;\n",
       "    }\n",
       "\n",
       "    .dataframe tbody tr th {\n",
       "        vertical-align: top;\n",
       "    }\n",
       "\n",
       "    .dataframe thead th {\n",
       "        text-align: right;\n",
       "    }\n",
       "</style>\n",
       "<table border=\"1\" class=\"dataframe\">\n",
       "  <thead>\n",
       "    <tr style=\"text-align: right;\">\n",
       "      <th></th>\n",
       "      <th>INCOME</th>\n",
       "      <th>WEALTH1</th>\n",
       "      <th>WWIIVETS</th>\n",
       "      <th>FEDGOV</th>\n",
       "      <th>WEALTH2</th>\n",
       "      <th>CARDPROM</th>\n",
       "      <th>CARDPM12</th>\n",
       "      <th>NUMPRM12</th>\n",
       "      <th>RAMNTALL</th>\n",
       "      <th>NGIFTALL</th>\n",
       "      <th>MINRAMNT</th>\n",
       "      <th>MAXRAMNT</th>\n",
       "      <th>LASTGIFT</th>\n",
       "      <th>AVGGIFT</th>\n",
       "      <th>RFA_2F</th>\n",
       "      <th>elapsed_MINRDATE</th>\n",
       "      <th>elapsed_MAXRDATE</th>\n",
       "      <th>elapsed_LASTDATE</th>\n",
       "      <th>LASTGIFTAMOUNTCATEGORY</th>\n",
       "      <th>MDONOR_GIVING_RECENCY</th>\n",
       "    </tr>\n",
       "  </thead>\n",
       "  <tbody>\n",
       "    <tr>\n",
       "      <th>0</th>\n",
       "      <td>NaN</td>\n",
       "      <td>NaN</td>\n",
       "      <td>-0.636364</td>\n",
       "      <td>-0.977011</td>\n",
       "      <td>0.111111</td>\n",
       "      <td>-0.133333</td>\n",
       "      <td>-0.368421</td>\n",
       "      <td>-0.662338</td>\n",
       "      <td>-0.952069</td>\n",
       "      <td>-0.745763</td>\n",
       "      <td>-0.990</td>\n",
       "      <td>-0.997197</td>\n",
       "      <td>-0.980</td>\n",
       "      <td>-0.987071</td>\n",
       "      <td>1.000000</td>\n",
       "      <td>-0.584386</td>\n",
       "      <td>-0.718758</td>\n",
       "      <td>0.217639</td>\n",
       "      <td>-0.333333</td>\n",
       "      <td>-1.0</td>\n",
       "    </tr>\n",
       "    <tr>\n",
       "      <th>1</th>\n",
       "      <td>0.666667</td>\n",
       "      <td>1.000000</td>\n",
       "      <td>-0.777778</td>\n",
       "      <td>-0.977011</td>\n",
       "      <td>1.000000</td>\n",
       "      <td>-0.633333</td>\n",
       "      <td>-0.368421</td>\n",
       "      <td>-0.688312</td>\n",
       "      <td>-0.992821</td>\n",
       "      <td>-0.983051</td>\n",
       "      <td>-0.980</td>\n",
       "      <td>-0.991992</td>\n",
       "      <td>-0.950</td>\n",
       "      <td>-0.971201</td>\n",
       "      <td>-0.333333</td>\n",
       "      <td>-0.692016</td>\n",
       "      <td>-0.890172</td>\n",
       "      <td>0.217639</td>\n",
       "      <td>1.000000</td>\n",
       "      <td>-1.0</td>\n",
       "    </tr>\n",
       "    <tr>\n",
       "      <th>2</th>\n",
       "      <td>-0.333333</td>\n",
       "      <td>-0.777778</td>\n",
       "      <td>-0.333333</td>\n",
       "      <td>-0.977011</td>\n",
       "      <td>-0.777778</td>\n",
       "      <td>-0.166667</td>\n",
       "      <td>-0.368421</td>\n",
       "      <td>-0.662338</td>\n",
       "      <td>-0.960093</td>\n",
       "      <td>-0.779661</td>\n",
       "      <td>-0.996</td>\n",
       "      <td>-0.995596</td>\n",
       "      <td>-0.990</td>\n",
       "      <td>-0.987593</td>\n",
       "      <td>1.000000</td>\n",
       "      <td>-0.515159</td>\n",
       "      <td>-0.569926</td>\n",
       "      <td>0.217639</td>\n",
       "      <td>-0.333333</td>\n",
       "      <td>-1.0</td>\n",
       "    </tr>\n",
       "    <tr>\n",
       "      <th>3</th>\n",
       "      <td>-1.000000</td>\n",
       "      <td>-0.111111</td>\n",
       "      <td>-0.373737</td>\n",
       "      <td>-0.931034</td>\n",
       "      <td>-1.000000</td>\n",
       "      <td>-0.133333</td>\n",
       "      <td>-0.368421</td>\n",
       "      <td>-0.662338</td>\n",
       "      <td>-0.979730</td>\n",
       "      <td>-0.872881</td>\n",
       "      <td>-0.996</td>\n",
       "      <td>-0.997598</td>\n",
       "      <td>-0.980</td>\n",
       "      <td>-0.988932</td>\n",
       "      <td>1.000000</td>\n",
       "      <td>-0.146033</td>\n",
       "      <td>-0.788812</td>\n",
       "      <td>0.217639</td>\n",
       "      <td>-0.333333</td>\n",
       "      <td>-1.0</td>\n",
       "    </tr>\n",
       "    <tr>\n",
       "      <th>4</th>\n",
       "      <td>-0.333333</td>\n",
       "      <td>-0.555556</td>\n",
       "      <td>0.070707</td>\n",
       "      <td>-0.954023</td>\n",
       "      <td>NaN</td>\n",
       "      <td>0.400000</td>\n",
       "      <td>0.052632</td>\n",
       "      <td>-0.376623</td>\n",
       "      <td>-0.949113</td>\n",
       "      <td>-0.694915</td>\n",
       "      <td>-0.994</td>\n",
       "      <td>-0.995996</td>\n",
       "      <td>-0.970</td>\n",
       "      <td>-0.988827</td>\n",
       "      <td>-0.333333</td>\n",
       "      <td>-0.692016</td>\n",
       "      <td>-0.898127</td>\n",
       "      <td>0.129445</td>\n",
       "      <td>0.333333</td>\n",
       "      <td>-1.0</td>\n",
       "    </tr>\n",
       "    <tr>\n",
       "      <th>...</th>\n",
       "      <td>...</td>\n",
       "      <td>...</td>\n",
       "      <td>...</td>\n",
       "      <td>...</td>\n",
       "      <td>...</td>\n",
       "      <td>...</td>\n",
       "      <td>...</td>\n",
       "      <td>...</td>\n",
       "      <td>...</td>\n",
       "      <td>...</td>\n",
       "      <td>...</td>\n",
       "      <td>...</td>\n",
       "      <td>...</td>\n",
       "      <td>...</td>\n",
       "      <td>...</td>\n",
       "      <td>...</td>\n",
       "      <td>...</td>\n",
       "      <td>...</td>\n",
       "      <td>...</td>\n",
       "      <td>...</td>\n",
       "    </tr>\n",
       "    <tr>\n",
       "      <th>95407</th>\n",
       "      <td>NaN</td>\n",
       "      <td>NaN</td>\n",
       "      <td>-0.777778</td>\n",
       "      <td>-0.701149</td>\n",
       "      <td>NaN</td>\n",
       "      <td>-0.833333</td>\n",
       "      <td>-0.473684</td>\n",
       "      <td>-0.714286</td>\n",
       "      <td>-0.997466</td>\n",
       "      <td>-1.000000</td>\n",
       "      <td>-0.950</td>\n",
       "      <td>-0.991992</td>\n",
       "      <td>-0.950</td>\n",
       "      <td>-0.952510</td>\n",
       "      <td>-1.000000</td>\n",
       "      <td>-0.907529</td>\n",
       "      <td>-0.906082</td>\n",
       "      <td>0.041252</td>\n",
       "      <td>1.000000</td>\n",
       "      <td>-1.0</td>\n",
       "    </tr>\n",
       "    <tr>\n",
       "      <th>95408</th>\n",
       "      <td>1.000000</td>\n",
       "      <td>1.000000</td>\n",
       "      <td>-0.616162</td>\n",
       "      <td>-1.000000</td>\n",
       "      <td>NaN</td>\n",
       "      <td>-0.900000</td>\n",
       "      <td>-0.684211</td>\n",
       "      <td>-0.818182</td>\n",
       "      <td>-0.998522</td>\n",
       "      <td>-1.000000</td>\n",
       "      <td>-0.960</td>\n",
       "      <td>-0.993994</td>\n",
       "      <td>-0.960</td>\n",
       "      <td>-0.962523</td>\n",
       "      <td>-1.000000</td>\n",
       "      <td>-0.914856</td>\n",
       "      <td>-0.913523</td>\n",
       "      <td>-0.041252</td>\n",
       "      <td>0.333333</td>\n",
       "      <td>-1.0</td>\n",
       "    </tr>\n",
       "    <tr>\n",
       "      <th>95409</th>\n",
       "      <td>NaN</td>\n",
       "      <td>NaN</td>\n",
       "      <td>-0.595960</td>\n",
       "      <td>-1.000000</td>\n",
       "      <td>NaN</td>\n",
       "      <td>-0.566667</td>\n",
       "      <td>-0.263158</td>\n",
       "      <td>-0.584416</td>\n",
       "      <td>-0.990498</td>\n",
       "      <td>-0.949153</td>\n",
       "      <td>-0.994</td>\n",
       "      <td>-0.997998</td>\n",
       "      <td>-0.980</td>\n",
       "      <td>-0.985982</td>\n",
       "      <td>0.333333</td>\n",
       "      <td>-0.914856</td>\n",
       "      <td>-0.804465</td>\n",
       "      <td>-0.650071</td>\n",
       "      <td>-0.333333</td>\n",
       "      <td>-1.0</td>\n",
       "    </tr>\n",
       "    <tr>\n",
       "      <th>95410</th>\n",
       "      <td>1.000000</td>\n",
       "      <td>NaN</td>\n",
       "      <td>-0.595960</td>\n",
       "      <td>-0.977011</td>\n",
       "      <td>0.555556</td>\n",
       "      <td>0.166667</td>\n",
       "      <td>-0.052632</td>\n",
       "      <td>-0.220779</td>\n",
       "      <td>-0.897593</td>\n",
       "      <td>-0.661017</td>\n",
       "      <td>-0.990</td>\n",
       "      <td>-0.993594</td>\n",
       "      <td>-0.964</td>\n",
       "      <td>-0.978251</td>\n",
       "      <td>1.000000</td>\n",
       "      <td>-0.422941</td>\n",
       "      <td>-0.952784</td>\n",
       "      <td>-0.911807</td>\n",
       "      <td>0.333333</td>\n",
       "      <td>-1.0</td>\n",
       "    </tr>\n",
       "    <tr>\n",
       "      <th>95411</th>\n",
       "      <td>0.333333</td>\n",
       "      <td>0.777778</td>\n",
       "      <td>-0.454545</td>\n",
       "      <td>-0.931034</td>\n",
       "      <td>0.777778</td>\n",
       "      <td>0.033333</td>\n",
       "      <td>-0.368421</td>\n",
       "      <td>-0.116883</td>\n",
       "      <td>-0.205659</td>\n",
       "      <td>-0.677966</td>\n",
       "      <td>-0.980</td>\n",
       "      <td>-0.921522</td>\n",
       "      <td>-0.800</td>\n",
       "      <td>-0.808736</td>\n",
       "      <td>-1.000000</td>\n",
       "      <td>-0.246084</td>\n",
       "      <td>-0.702848</td>\n",
       "      <td>-0.823613</td>\n",
       "      <td>1.000000</td>\n",
       "      <td>-0.5</td>\n",
       "    </tr>\n",
       "  </tbody>\n",
       "</table>\n",
       "<p>95412 rows × 20 columns</p>\n",
       "</div>"
      ],
      "text/plain": [
       "         INCOME   WEALTH1  WWIIVETS    FEDGOV   WEALTH2  CARDPROM  CARDPM12  \\\n",
       "0           NaN       NaN -0.636364 -0.977011  0.111111 -0.133333 -0.368421   \n",
       "1      0.666667  1.000000 -0.777778 -0.977011  1.000000 -0.633333 -0.368421   \n",
       "2     -0.333333 -0.777778 -0.333333 -0.977011 -0.777778 -0.166667 -0.368421   \n",
       "3     -1.000000 -0.111111 -0.373737 -0.931034 -1.000000 -0.133333 -0.368421   \n",
       "4     -0.333333 -0.555556  0.070707 -0.954023       NaN  0.400000  0.052632   \n",
       "...         ...       ...       ...       ...       ...       ...       ...   \n",
       "95407       NaN       NaN -0.777778 -0.701149       NaN -0.833333 -0.473684   \n",
       "95408  1.000000  1.000000 -0.616162 -1.000000       NaN -0.900000 -0.684211   \n",
       "95409       NaN       NaN -0.595960 -1.000000       NaN -0.566667 -0.263158   \n",
       "95410  1.000000       NaN -0.595960 -0.977011  0.555556  0.166667 -0.052632   \n",
       "95411  0.333333  0.777778 -0.454545 -0.931034  0.777778  0.033333 -0.368421   \n",
       "\n",
       "       NUMPRM12  RAMNTALL  NGIFTALL  MINRAMNT  MAXRAMNT  LASTGIFT   AVGGIFT  \\\n",
       "0     -0.662338 -0.952069 -0.745763    -0.990 -0.997197    -0.980 -0.987071   \n",
       "1     -0.688312 -0.992821 -0.983051    -0.980 -0.991992    -0.950 -0.971201   \n",
       "2     -0.662338 -0.960093 -0.779661    -0.996 -0.995596    -0.990 -0.987593   \n",
       "3     -0.662338 -0.979730 -0.872881    -0.996 -0.997598    -0.980 -0.988932   \n",
       "4     -0.376623 -0.949113 -0.694915    -0.994 -0.995996    -0.970 -0.988827   \n",
       "...         ...       ...       ...       ...       ...       ...       ...   \n",
       "95407 -0.714286 -0.997466 -1.000000    -0.950 -0.991992    -0.950 -0.952510   \n",
       "95408 -0.818182 -0.998522 -1.000000    -0.960 -0.993994    -0.960 -0.962523   \n",
       "95409 -0.584416 -0.990498 -0.949153    -0.994 -0.997998    -0.980 -0.985982   \n",
       "95410 -0.220779 -0.897593 -0.661017    -0.990 -0.993594    -0.964 -0.978251   \n",
       "95411 -0.116883 -0.205659 -0.677966    -0.980 -0.921522    -0.800 -0.808736   \n",
       "\n",
       "         RFA_2F  elapsed_MINRDATE  elapsed_MAXRDATE  elapsed_LASTDATE  \\\n",
       "0      1.000000         -0.584386         -0.718758          0.217639   \n",
       "1     -0.333333         -0.692016         -0.890172          0.217639   \n",
       "2      1.000000         -0.515159         -0.569926          0.217639   \n",
       "3      1.000000         -0.146033         -0.788812          0.217639   \n",
       "4     -0.333333         -0.692016         -0.898127          0.129445   \n",
       "...         ...               ...               ...               ...   \n",
       "95407 -1.000000         -0.907529         -0.906082          0.041252   \n",
       "95408 -1.000000         -0.914856         -0.913523         -0.041252   \n",
       "95409  0.333333         -0.914856         -0.804465         -0.650071   \n",
       "95410  1.000000         -0.422941         -0.952784         -0.911807   \n",
       "95411 -1.000000         -0.246084         -0.702848         -0.823613   \n",
       "\n",
       "       LASTGIFTAMOUNTCATEGORY  MDONOR_GIVING_RECENCY  \n",
       "0                   -0.333333                   -1.0  \n",
       "1                    1.000000                   -1.0  \n",
       "2                   -0.333333                   -1.0  \n",
       "3                   -0.333333                   -1.0  \n",
       "4                    0.333333                   -1.0  \n",
       "...                       ...                    ...  \n",
       "95407                1.000000                   -1.0  \n",
       "95408                0.333333                   -1.0  \n",
       "95409               -0.333333                   -1.0  \n",
       "95410                0.333333                   -1.0  \n",
       "95411                1.000000                   -0.5  \n",
       "\n",
       "[95412 rows x 20 columns]"
      ]
     },
     "execution_count": 34,
     "metadata": {},
     "output_type": "execute_result"
    }
   ],
   "source": [
    "df_FEreduction"
   ]
  },
  {
   "cell_type": "markdown",
   "metadata": {},
   "source": [
    "## Missing Values"
   ]
  },
  {
   "cell_type": "code",
   "execution_count": 35,
   "metadata": {},
   "outputs": [],
   "source": [
    "df_MV = df_FEreduction.copy()"
   ]
  },
  {
   "cell_type": "code",
   "execution_count": 36,
   "metadata": {},
   "outputs": [
    {
     "name": "stdout",
     "output_type": "stream",
     "text": [
      "Total Columns: 20\n",
      "Numerical Columns: 20\n",
      "Categorical Columns: 0\n"
     ]
    }
   ],
   "source": [
    "df_numeric, df_categorical = splitNumericAndCategorical(df_MV)"
   ]
  },
  {
   "cell_type": "code",
   "execution_count": 37,
   "metadata": {},
   "outputs": [],
   "source": [
    "imputer = KNNImputer(n_neighbors = 5, weights = 'uniform')\n",
    "df_MV[df_numeric.columns] = pd.DataFrame(imputer.fit_transform(df_numeric))"
   ]
  },
  {
   "cell_type": "markdown",
   "metadata": {},
   "source": [
    "## Outlier Removal"
   ]
  },
  {
   "cell_type": "code",
   "execution_count": 38,
   "metadata": {},
   "outputs": [],
   "source": [
    "df_outlier = df_MV.copy()"
   ]
  },
  {
   "cell_type": "code",
   "execution_count": 39,
   "metadata": {},
   "outputs": [
    {
     "name": "stdout",
     "output_type": "stream",
     "text": [
      "Total Columns: 20\n",
      "Numerical Columns: 20\n",
      "Categorical Columns: 0\n"
     ]
    }
   ],
   "source": [
    "df_numeric, df_categorical = splitNumericAndCategorical(df_outlier)"
   ]
  },
  {
   "cell_type": "code",
   "execution_count": 40,
   "metadata": {},
   "outputs": [],
   "source": [
    "from sklearn.ensemble import IsolationForest\n",
    "\n",
    "IsoForest = IsolationForest(contamination=0.1)\n",
    "\n",
    "Labeling = IsoForest.fit_predict(df_numeric)\n",
    "\n",
    "Labeling_bool = [True if x == 1 else False for x in Labeling]\n",
    "Outlier_Labeling_bool = [False if x == 1 else True for x in Labeling]\n",
    "\n",
    "df_NonOutlier = df_outlier.loc[Labeling_bool]\n",
    "df_Outlier = df_outlier.loc[Outlier_Labeling_bool]"
   ]
  },
  {
   "cell_type": "markdown",
   "metadata": {},
   "source": [
    "# Save Results"
   ]
  },
  {
   "cell_type": "code",
   "execution_count": 41,
   "metadata": {},
   "outputs": [],
   "source": [
    "df_NonOutlier.to_csv('./Outputs/dataprep_NonOutliers.csv')\n",
    "df_Outlier.to_csv('./Outputs/dataprep_Outliers.csv')\n",
    "df_Prepped.to_csv('./Outputs/dataprep_final.csv')"
   ]
  },
  {
   "cell_type": "code",
   "execution_count": 42,
   "metadata": {},
   "outputs": [
    {
     "name": "stdout",
     "output_type": "stream",
     "text": [
      "85870\n",
      "9542\n",
      "95412\n",
      "95412\n"
     ]
    }
   ],
   "source": [
    "print(df_NonOutlier.shape[0])\n",
    "print(df_Outlier.shape[0])\n",
    "print(df_Prepped.shape[0])\n",
    "print(df_source.shape[0])"
   ]
  }
 ],
 "metadata": {
  "kernelspec": {
   "display_name": "Python 3",
   "language": "python",
   "name": "python3"
  },
  "language_info": {
   "codemirror_mode": {
    "name": "ipython",
    "version": 3
   },
   "file_extension": ".py",
   "mimetype": "text/x-python",
   "name": "python",
   "nbconvert_exporter": "python",
   "pygments_lexer": "ipython3",
   "version": "3.8.3"
  }
 },
 "nbformat": 4,
 "nbformat_minor": 4
}
